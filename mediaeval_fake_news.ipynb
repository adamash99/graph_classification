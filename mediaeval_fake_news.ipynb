{
 "metadata": {
  "language_info": {
   "codemirror_mode": {
    "name": "ipython",
    "version": 3
   },
   "file_extension": ".py",
   "mimetype": "text/x-python",
   "name": "python",
   "nbconvert_exporter": "python",
   "pygments_lexer": "ipython3",
   "version": "3.7.0-final"
  },
  "orig_nbformat": 2,
  "kernelspec": {
   "name": "python370jvsc74a57bd047b36cd398037ab260698e0cb19f2b90ed6a2036dccab1b3a93a2caa97981f8d",
   "display_name": "Python 3.7.0 64-bit ('env')"
  },
  "metadata": {
   "interpreter": {
    "hash": "e534e48711db4d1e1c48977d0d14ff85b1f16d41bcc4fdfd88268a329b3c9d66"
   }
  }
 },
 "nbformat": 4,
 "nbformat_minor": 2,
 "cells": [
  {
   "cell_type": "code",
   "execution_count": 73,
   "metadata": {},
   "outputs": [
    {
     "output_type": "stream",
     "name": "stdout",
     "text": [
      "The autoreload extension is already loaded. To reload it, use:\n  %reload_ext autoreload\n"
     ]
    }
   ],
   "source": [
    "from mediaeval_fake_news.prepare_graphs_basic_info import get_training_dataframe\n",
    "from mediaeval_fake_news.subgraph_sampling import subgraph_random_sampling\n",
    "from mediaeval_fake_news.graph2vec import get_weighted_average_embeddings, get_largest_subgraph_embedding\n",
    "from mediaeval_fake_news.deepwalk_utils import clean_for_deepwalk\n",
    "from mediaeval_fake_news.models.rnn import Rnn\n",
    "import pandas as pd\n",
    "from sklearn.linear_model import LogisticRegression\n",
    "from sklearn.model_selection import cross_val_score, cross_val_predict, KFold\n",
    "from sklearn.metrics import matthews_corrcoef\n",
    "import numpy as np\n",
    "np.random.seed(42)\n",
    "import torch as th\n",
    "import torch.nn as nn\n",
    "from torch.utils.data import Dataset\n",
    "# for auto-reloading external modules\n",
    "# see http://stackoverflow.com/questions/1907993/autoreload-of-modules-in-ipython\n",
    "%load_ext autoreload\n",
    "%autoreload 2"
   ]
  },
  {
   "source": [
    "dataset_path = \"../datasets/mediaeval_fake_news_dataset/graphs/\"\n",
    "df, graph_dict, node_df = get_training_dataframe(dataset_path, two_class=False, get_node_df=True)\n",
    "#node_df = node_df.set_index(['graph_id', 'node_id'])\n",
    "print(graph_dict.keys()) # in this order in the df\n"
   ],
   "cell_type": "code",
   "metadata": {},
   "execution_count": 2,
   "outputs": [
    {
     "output_type": "stream",
     "name": "stdout",
     "text": [
      "dict_keys(['conspiracy_graphs', 'non_conspiracy_graphs', 'other_conspiracy_graphs'])\n"
     ]
    }
   ]
  },
  {
   "source": [
    "# Brainome"
   ],
   "cell_type": "markdown",
   "metadata": {}
  },
  {
   "cell_type": "code",
   "execution_count": 6,
   "metadata": {},
   "outputs": [],
   "source": [
    "# for basic features\n",
    "\n",
    "df.shape\n",
    "df.to_csv(\"basic_features.csv\", index=False)\n",
    "# run btc -measureonly basic_features.csv -target label -ignorecolumns nodeID_list\n"
   ]
  },
  {
   "source": [
    "for two class, brainome gives Best guess accuracy: 88.40%. This is just choosing 0 for everything. Got yellow. For two class, also got the same as choosing most common\""
   ],
   "cell_type": "markdown",
   "metadata": {}
  },
  {
   "cell_type": "code",
   "execution_count": 9,
   "metadata": {},
   "outputs": [
    {
     "output_type": "display_data",
     "data": {
      "text/plain": "     weighted_g2v0  weighted_g2v1  weighted_g2v2  weighted_g2v3  \\\n0        -0.135185      -0.048401      -0.039733       0.052115   \n1        -0.166506      -0.058801      -0.061478       0.057558   \n2        -0.074059      -0.031809      -0.025210       0.028706   \n3        -0.096855      -0.040148      -0.038347       0.037246   \n4        -0.078578      -0.033788      -0.031015       0.034652   \n..             ...            ...            ...            ...   \n265      -0.119380      -0.044606      -0.038471       0.041389   \n266      -0.102998      -0.034455      -0.030975       0.034713   \n267      -0.147454      -0.052583      -0.057560       0.056190   \n268      -0.005257       0.000199       0.000832       0.001242   \n269      -0.136005      -0.041924      -0.054682       0.067163   \n\n     weighted_g2v4  weighted_g2v5  weighted_g2v6  weighted_g2v7  \\\n0        -0.140880       0.107147      -0.059703      -0.047766   \n1        -0.184593       0.148296      -0.057601      -0.060534   \n2        -0.074920       0.061906      -0.036715      -0.027512   \n3        -0.092192       0.074869      -0.029323      -0.041718   \n4        -0.087756       0.071091      -0.030422      -0.028083   \n..             ...            ...            ...            ...   \n265      -0.121399       0.099895      -0.046840      -0.043110   \n266      -0.103247       0.075003      -0.038463      -0.041934   \n267      -0.171025       0.146895      -0.072731      -0.048643   \n268      -0.004764       0.002313      -0.001831      -0.000076   \n269      -0.122318       0.098035      -0.055701      -0.051978   \n\n     weighted_g2v8  weighted_g2v9  ...  weighted_g2v55  weighted_g2v56  \\\n0         0.025264       0.053888  ...        0.051684        0.111765   \n1         0.020224       0.068468  ...        0.072657        0.124573   \n2         0.012253       0.033411  ...        0.034663        0.066087   \n3         0.010148       0.043166  ...        0.046897        0.082165   \n4         0.016498       0.028220  ...        0.029060        0.067963   \n..             ...            ...  ...             ...             ...   \n265       0.013045       0.045818  ...        0.044321        0.091078   \n266       0.014526       0.033481  ...        0.036479        0.072301   \n267       0.017665       0.060857  ...        0.054055        0.116071   \n268       0.000840       0.001468  ...        0.002257        0.000675   \n269       0.028912       0.066033  ...        0.054393        0.104811   \n\n     weighted_g2v57  weighted_g2v58  weighted_g2v59  weighted_g2v60  \\\n0         -0.000768        0.051560        0.172556       -0.056201   \n1          0.001599        0.080217        0.233222       -0.069000   \n2         -0.002857        0.034992        0.098433       -0.027912   \n3          0.003455        0.043655        0.126909       -0.047726   \n4         -0.002160        0.032116        0.111422       -0.027850   \n..              ...             ...             ...             ...   \n265        0.006572        0.052187        0.156923       -0.046507   \n266        0.004753        0.046622        0.120859       -0.039335   \n267       -0.007857        0.081087        0.213297       -0.068011   \n268       -0.000042        0.001870        0.002764       -0.002260   \n269       -0.007411        0.066787        0.182105       -0.058175   \n\n     weighted_g2v61  weighted_g2v62  weighted_g2v63  label  \n0         -0.206576       -0.131849       -0.032903      1  \n1         -0.245228       -0.159604       -0.037272      1  \n2         -0.122374       -0.080374       -0.010138      1  \n3         -0.144647       -0.093099       -0.017362      1  \n4         -0.119581       -0.078706       -0.010749      1  \n..              ...             ...             ...    ...  \n265       -0.174894       -0.109014       -0.023418      1  \n266       -0.137999       -0.088078       -0.022270      1  \n267       -0.221993       -0.164980       -0.022520      1  \n268       -0.006081       -0.002542        0.001515      1  \n269       -0.184634       -0.114066       -0.024392      1  \n\n[270 rows x 65 columns]",
      "text/html": "<div>\n<style scoped>\n    .dataframe tbody tr th:only-of-type {\n        vertical-align: middle;\n    }\n\n    .dataframe tbody tr th {\n        vertical-align: top;\n    }\n\n    .dataframe thead th {\n        text-align: right;\n    }\n</style>\n<table border=\"1\" class=\"dataframe\">\n  <thead>\n    <tr style=\"text-align: right;\">\n      <th></th>\n      <th>weighted_g2v0</th>\n      <th>weighted_g2v1</th>\n      <th>weighted_g2v2</th>\n      <th>weighted_g2v3</th>\n      <th>weighted_g2v4</th>\n      <th>weighted_g2v5</th>\n      <th>weighted_g2v6</th>\n      <th>weighted_g2v7</th>\n      <th>weighted_g2v8</th>\n      <th>weighted_g2v9</th>\n      <th>...</th>\n      <th>weighted_g2v55</th>\n      <th>weighted_g2v56</th>\n      <th>weighted_g2v57</th>\n      <th>weighted_g2v58</th>\n      <th>weighted_g2v59</th>\n      <th>weighted_g2v60</th>\n      <th>weighted_g2v61</th>\n      <th>weighted_g2v62</th>\n      <th>weighted_g2v63</th>\n      <th>label</th>\n    </tr>\n  </thead>\n  <tbody>\n    <tr>\n      <th>0</th>\n      <td>-0.135185</td>\n      <td>-0.048401</td>\n      <td>-0.039733</td>\n      <td>0.052115</td>\n      <td>-0.140880</td>\n      <td>0.107147</td>\n      <td>-0.059703</td>\n      <td>-0.047766</td>\n      <td>0.025264</td>\n      <td>0.053888</td>\n      <td>...</td>\n      <td>0.051684</td>\n      <td>0.111765</td>\n      <td>-0.000768</td>\n      <td>0.051560</td>\n      <td>0.172556</td>\n      <td>-0.056201</td>\n      <td>-0.206576</td>\n      <td>-0.131849</td>\n      <td>-0.032903</td>\n      <td>1</td>\n    </tr>\n    <tr>\n      <th>1</th>\n      <td>-0.166506</td>\n      <td>-0.058801</td>\n      <td>-0.061478</td>\n      <td>0.057558</td>\n      <td>-0.184593</td>\n      <td>0.148296</td>\n      <td>-0.057601</td>\n      <td>-0.060534</td>\n      <td>0.020224</td>\n      <td>0.068468</td>\n      <td>...</td>\n      <td>0.072657</td>\n      <td>0.124573</td>\n      <td>0.001599</td>\n      <td>0.080217</td>\n      <td>0.233222</td>\n      <td>-0.069000</td>\n      <td>-0.245228</td>\n      <td>-0.159604</td>\n      <td>-0.037272</td>\n      <td>1</td>\n    </tr>\n    <tr>\n      <th>2</th>\n      <td>-0.074059</td>\n      <td>-0.031809</td>\n      <td>-0.025210</td>\n      <td>0.028706</td>\n      <td>-0.074920</td>\n      <td>0.061906</td>\n      <td>-0.036715</td>\n      <td>-0.027512</td>\n      <td>0.012253</td>\n      <td>0.033411</td>\n      <td>...</td>\n      <td>0.034663</td>\n      <td>0.066087</td>\n      <td>-0.002857</td>\n      <td>0.034992</td>\n      <td>0.098433</td>\n      <td>-0.027912</td>\n      <td>-0.122374</td>\n      <td>-0.080374</td>\n      <td>-0.010138</td>\n      <td>1</td>\n    </tr>\n    <tr>\n      <th>3</th>\n      <td>-0.096855</td>\n      <td>-0.040148</td>\n      <td>-0.038347</td>\n      <td>0.037246</td>\n      <td>-0.092192</td>\n      <td>0.074869</td>\n      <td>-0.029323</td>\n      <td>-0.041718</td>\n      <td>0.010148</td>\n      <td>0.043166</td>\n      <td>...</td>\n      <td>0.046897</td>\n      <td>0.082165</td>\n      <td>0.003455</td>\n      <td>0.043655</td>\n      <td>0.126909</td>\n      <td>-0.047726</td>\n      <td>-0.144647</td>\n      <td>-0.093099</td>\n      <td>-0.017362</td>\n      <td>1</td>\n    </tr>\n    <tr>\n      <th>4</th>\n      <td>-0.078578</td>\n      <td>-0.033788</td>\n      <td>-0.031015</td>\n      <td>0.034652</td>\n      <td>-0.087756</td>\n      <td>0.071091</td>\n      <td>-0.030422</td>\n      <td>-0.028083</td>\n      <td>0.016498</td>\n      <td>0.028220</td>\n      <td>...</td>\n      <td>0.029060</td>\n      <td>0.067963</td>\n      <td>-0.002160</td>\n      <td>0.032116</td>\n      <td>0.111422</td>\n      <td>-0.027850</td>\n      <td>-0.119581</td>\n      <td>-0.078706</td>\n      <td>-0.010749</td>\n      <td>1</td>\n    </tr>\n    <tr>\n      <th>...</th>\n      <td>...</td>\n      <td>...</td>\n      <td>...</td>\n      <td>...</td>\n      <td>...</td>\n      <td>...</td>\n      <td>...</td>\n      <td>...</td>\n      <td>...</td>\n      <td>...</td>\n      <td>...</td>\n      <td>...</td>\n      <td>...</td>\n      <td>...</td>\n      <td>...</td>\n      <td>...</td>\n      <td>...</td>\n      <td>...</td>\n      <td>...</td>\n      <td>...</td>\n      <td>...</td>\n    </tr>\n    <tr>\n      <th>265</th>\n      <td>-0.119380</td>\n      <td>-0.044606</td>\n      <td>-0.038471</td>\n      <td>0.041389</td>\n      <td>-0.121399</td>\n      <td>0.099895</td>\n      <td>-0.046840</td>\n      <td>-0.043110</td>\n      <td>0.013045</td>\n      <td>0.045818</td>\n      <td>...</td>\n      <td>0.044321</td>\n      <td>0.091078</td>\n      <td>0.006572</td>\n      <td>0.052187</td>\n      <td>0.156923</td>\n      <td>-0.046507</td>\n      <td>-0.174894</td>\n      <td>-0.109014</td>\n      <td>-0.023418</td>\n      <td>1</td>\n    </tr>\n    <tr>\n      <th>266</th>\n      <td>-0.102998</td>\n      <td>-0.034455</td>\n      <td>-0.030975</td>\n      <td>0.034713</td>\n      <td>-0.103247</td>\n      <td>0.075003</td>\n      <td>-0.038463</td>\n      <td>-0.041934</td>\n      <td>0.014526</td>\n      <td>0.033481</td>\n      <td>...</td>\n      <td>0.036479</td>\n      <td>0.072301</td>\n      <td>0.004753</td>\n      <td>0.046622</td>\n      <td>0.120859</td>\n      <td>-0.039335</td>\n      <td>-0.137999</td>\n      <td>-0.088078</td>\n      <td>-0.022270</td>\n      <td>1</td>\n    </tr>\n    <tr>\n      <th>267</th>\n      <td>-0.147454</td>\n      <td>-0.052583</td>\n      <td>-0.057560</td>\n      <td>0.056190</td>\n      <td>-0.171025</td>\n      <td>0.146895</td>\n      <td>-0.072731</td>\n      <td>-0.048643</td>\n      <td>0.017665</td>\n      <td>0.060857</td>\n      <td>...</td>\n      <td>0.054055</td>\n      <td>0.116071</td>\n      <td>-0.007857</td>\n      <td>0.081087</td>\n      <td>0.213297</td>\n      <td>-0.068011</td>\n      <td>-0.221993</td>\n      <td>-0.164980</td>\n      <td>-0.022520</td>\n      <td>1</td>\n    </tr>\n    <tr>\n      <th>268</th>\n      <td>-0.005257</td>\n      <td>0.000199</td>\n      <td>0.000832</td>\n      <td>0.001242</td>\n      <td>-0.004764</td>\n      <td>0.002313</td>\n      <td>-0.001831</td>\n      <td>-0.000076</td>\n      <td>0.000840</td>\n      <td>0.001468</td>\n      <td>...</td>\n      <td>0.002257</td>\n      <td>0.000675</td>\n      <td>-0.000042</td>\n      <td>0.001870</td>\n      <td>0.002764</td>\n      <td>-0.002260</td>\n      <td>-0.006081</td>\n      <td>-0.002542</td>\n      <td>0.001515</td>\n      <td>1</td>\n    </tr>\n    <tr>\n      <th>269</th>\n      <td>-0.136005</td>\n      <td>-0.041924</td>\n      <td>-0.054682</td>\n      <td>0.067163</td>\n      <td>-0.122318</td>\n      <td>0.098035</td>\n      <td>-0.055701</td>\n      <td>-0.051978</td>\n      <td>0.028912</td>\n      <td>0.066033</td>\n      <td>...</td>\n      <td>0.054393</td>\n      <td>0.104811</td>\n      <td>-0.007411</td>\n      <td>0.066787</td>\n      <td>0.182105</td>\n      <td>-0.058175</td>\n      <td>-0.184634</td>\n      <td>-0.114066</td>\n      <td>-0.024392</td>\n      <td>1</td>\n    </tr>\n  </tbody>\n</table>\n<p>270 rows × 65 columns</p>\n</div>"
     },
     "metadata": {}
    }
   ],
   "source": [
    "consp, non_consp, other_consp = graphs['conspiracy_graphs'], graphs['non_conspiracy_graphs'], graphs['other_conspiracy_graphs']\n",
    "g2v1 = get_weighted_average_embeddings(consp, label=1)\n",
    "g2v2 = get_weighted_average_embeddings(non_consp, label=2)\n",
    "g2v3 = get_weighted_average_embeddings(other_consp, label=3)\n",
    "g2v_dfs = [g2v1, g2v2, g2v3]"
   ]
  },
  {
   "cell_type": "code",
   "execution_count": 15,
   "metadata": {},
   "outputs": [],
   "source": [
    "all_g2v_embeddings = pd.concat(g2v_dfs)\n",
    "all_g2v_embeddings.to_csv(\"g2v_weighted.csv\", index=False)"
   ]
  },
  {
   "source": [
    "# Using only Deepwalk\n",
    "#### run deepwalk --input ../for_deepwalk.edgelist --format edgelist --output OUTFILE_NAME.txt --workers 4 --seed 42 --undirected false\n",
    "### Important: only run this cell if you want to make a new deepwalk embedding"
   ],
   "cell_type": "markdown",
   "metadata": {}
  },
  {
   "cell_type": "code",
   "execution_count": 17,
   "metadata": {},
   "outputs": [
    {
     "output_type": "execute_result",
     "data": {
      "text/plain": [
       "<networkx.classes.digraph.DiGraph at 0x7f84ea7cba90>"
      ]
     },
     "metadata": {},
     "execution_count": 17
    }
   ],
   "source": [
    "composite_graph = clean_for_deepwalk(dataset_path, directed=True)\n",
    "!deepwalk --input for_deepwalk.edgelist --format edgelist --output march20.txt --workers 4 --seed 42 --undirected false\n"
   ]
  },
  {
   "source": [
    "### Nodes all have unique IDs"
   ],
   "cell_type": "markdown",
   "metadata": {}
  },
  {
   "cell_type": "code",
   "execution_count": 3,
   "metadata": {},
   "outputs": [
    {
     "output_type": "execute_result",
     "data": {
      "text/plain": [
       "NodeView(('32115079', '449009614', '833469625', '499613745', '450210178', '182510449', '74719838'))"
      ]
     },
     "metadata": {},
     "execution_count": 3
    }
   ],
   "source": [
    "graph_dict['conspiracy_graphs'][0].nodes()"
   ]
  },
  {
   "cell_type": "code",
   "execution_count": 4,
   "metadata": {},
   "outputs": [
    {
     "output_type": "execute_result",
     "data": {
      "text/plain": [
       "           deepwalk0  deepwalk1  deepwalk2  deepwalk3  deepwalk4  deepwalk5  \\\n",
       "127166025   0.327048  -0.175018   0.224296  -0.304788  -0.222251   0.535962   \n",
       "61721125    0.514014  -0.111906  -0.504094   0.304461   0.119720   0.193295   \n",
       "127471447   0.320193   0.299958   0.126426  -0.828930   0.136684   0.066215   \n",
       "\n",
       "           deepwalk6  deepwalk7  deepwalk8  deepwalk9  ...  deepwalk54  \\\n",
       "127166025  -0.267580   0.059097   0.178404  -0.844267  ...   -0.244400   \n",
       "61721125   -0.145294  -0.607624   0.072884   0.312199  ...    0.537953   \n",
       "127471447   0.340867  -1.203018  -0.158095   0.751009  ...    0.306866   \n",
       "\n",
       "           deepwalk55  deepwalk56  deepwalk57  deepwalk58  deepwalk59  \\\n",
       "127166025   -0.030048   -0.119165    0.218429   -0.567515    0.166872   \n",
       "61721125    -0.267592   -0.209925    0.365644   -0.741665   -0.070278   \n",
       "127471447   -0.620950    1.211668   -0.151608   -0.585739   -0.606053   \n",
       "\n",
       "           deepwalk60  deepwalk61  deepwalk62  deepwalk63  \n",
       "127166025   -0.065369   -0.233754   -0.055578    0.034475  \n",
       "61721125     0.025231   -0.253768    0.119094    0.541069  \n",
       "127471447    0.755599   -0.407707    0.263721   -0.653597  \n",
       "\n",
       "[3 rows x 64 columns]"
      ],
      "text/html": "<div>\n<style scoped>\n    .dataframe tbody tr th:only-of-type {\n        vertical-align: middle;\n    }\n\n    .dataframe tbody tr th {\n        vertical-align: top;\n    }\n\n    .dataframe thead th {\n        text-align: right;\n    }\n</style>\n<table border=\"1\" class=\"dataframe\">\n  <thead>\n    <tr style=\"text-align: right;\">\n      <th></th>\n      <th>deepwalk0</th>\n      <th>deepwalk1</th>\n      <th>deepwalk2</th>\n      <th>deepwalk3</th>\n      <th>deepwalk4</th>\n      <th>deepwalk5</th>\n      <th>deepwalk6</th>\n      <th>deepwalk7</th>\n      <th>deepwalk8</th>\n      <th>deepwalk9</th>\n      <th>...</th>\n      <th>deepwalk54</th>\n      <th>deepwalk55</th>\n      <th>deepwalk56</th>\n      <th>deepwalk57</th>\n      <th>deepwalk58</th>\n      <th>deepwalk59</th>\n      <th>deepwalk60</th>\n      <th>deepwalk61</th>\n      <th>deepwalk62</th>\n      <th>deepwalk63</th>\n    </tr>\n  </thead>\n  <tbody>\n    <tr>\n      <th>127166025</th>\n      <td>0.327048</td>\n      <td>-0.175018</td>\n      <td>0.224296</td>\n      <td>-0.304788</td>\n      <td>-0.222251</td>\n      <td>0.535962</td>\n      <td>-0.267580</td>\n      <td>0.059097</td>\n      <td>0.178404</td>\n      <td>-0.844267</td>\n      <td>...</td>\n      <td>-0.244400</td>\n      <td>-0.030048</td>\n      <td>-0.119165</td>\n      <td>0.218429</td>\n      <td>-0.567515</td>\n      <td>0.166872</td>\n      <td>-0.065369</td>\n      <td>-0.233754</td>\n      <td>-0.055578</td>\n      <td>0.034475</td>\n    </tr>\n    <tr>\n      <th>61721125</th>\n      <td>0.514014</td>\n      <td>-0.111906</td>\n      <td>-0.504094</td>\n      <td>0.304461</td>\n      <td>0.119720</td>\n      <td>0.193295</td>\n      <td>-0.145294</td>\n      <td>-0.607624</td>\n      <td>0.072884</td>\n      <td>0.312199</td>\n      <td>...</td>\n      <td>0.537953</td>\n      <td>-0.267592</td>\n      <td>-0.209925</td>\n      <td>0.365644</td>\n      <td>-0.741665</td>\n      <td>-0.070278</td>\n      <td>0.025231</td>\n      <td>-0.253768</td>\n      <td>0.119094</td>\n      <td>0.541069</td>\n    </tr>\n    <tr>\n      <th>127471447</th>\n      <td>0.320193</td>\n      <td>0.299958</td>\n      <td>0.126426</td>\n      <td>-0.828930</td>\n      <td>0.136684</td>\n      <td>0.066215</td>\n      <td>0.340867</td>\n      <td>-1.203018</td>\n      <td>-0.158095</td>\n      <td>0.751009</td>\n      <td>...</td>\n      <td>0.306866</td>\n      <td>-0.620950</td>\n      <td>1.211668</td>\n      <td>-0.151608</td>\n      <td>-0.585739</td>\n      <td>-0.606053</td>\n      <td>0.755599</td>\n      <td>-0.407707</td>\n      <td>0.263721</td>\n      <td>-0.653597</td>\n    </tr>\n  </tbody>\n</table>\n<p>3 rows × 64 columns</p>\n</div>"
     },
     "metadata": {},
     "execution_count": 4
    }
   ],
   "source": [
    "embeddings = pd.read_csv('deepwalk-master/march20.txt', names=['deepwalk' + str(i) for i in range(64)], sep=\" \")\n",
    "#set index (node labels) to string for consistency with NetworkX\n",
    "as_string = embeddings.index.astype('string')\n",
    "embeddings = embeddings.set_index(as_string)\n",
    "embeddings.head(3)"
   ]
  },
  {
   "source": [
    "### Trying out an LSTM\n",
    "#### First, we need to create our dataset"
   ],
   "cell_type": "markdown",
   "metadata": {}
  },
  {
   "cell_type": "code",
   "execution_count": 5,
   "metadata": {},
   "outputs": [],
   "source": [
    "from mediaeval_fake_news.dataset_wrapper import GraphDataset, x_transform, y_transform\n",
    "dataset = GraphDataset(df, embeddings, node_df, x_transform, y_transform)"
   ]
  },
  {
   "source": [
    "#### Next, we create our RNN Model"
   ],
   "cell_type": "markdown",
   "metadata": {}
  },
  {
   "cell_type": "code",
   "execution_count": 84,
   "metadata": {},
   "outputs": [
    {
     "output_type": "stream",
     "name": "stdout",
     "text": [
      "torch.FloatTensor\ntorch.float32\ntorch.Size([1, 7, 32])\n"
     ]
    },
    {
     "output_type": "execute_result",
     "data": {
      "text/plain": [
       "tensor([[[0.0000e+00, 7.8064e+01, 2.9321e+01, 0.0000e+00, 2.7688e+01,\n",
       "          0.0000e+00, 0.0000e+00, 0.0000e+00, 5.5116e+01, 1.7011e+01,\n",
       "          7.0378e+01, 0.0000e+00, 1.0417e+00, 0.0000e+00, 7.0574e+00,\n",
       "          7.2649e+01, 0.0000e+00, 6.7241e+01, 0.0000e+00, 2.5002e+01,\n",
       "          5.4065e+01, 0.0000e+00, 0.0000e+00, 0.0000e+00, 0.0000e+00,\n",
       "          0.0000e+00, 1.2706e+01, 0.0000e+00, 0.0000e+00, 0.0000e+00,\n",
       "          2.3647e+01, 1.2314e+00],\n",
       "         [0.0000e+00, 4.8273e+01, 4.4919e+01, 0.0000e+00, 9.7167e-01,\n",
       "          0.0000e+00, 0.0000e+00, 1.1053e+01, 6.1878e+01, 1.0020e+01,\n",
       "          4.0444e+01, 0.0000e+00, 0.0000e+00, 0.0000e+00, 1.4024e+01,\n",
       "          6.2879e+01, 2.4175e+00, 3.4821e+01, 0.0000e+00, 1.8324e+01,\n",
       "          2.7759e+01, 3.6546e+01, 0.0000e+00, 0.0000e+00, 0.0000e+00,\n",
       "          0.0000e+00, 1.5794e+00, 2.5181e+01, 0.0000e+00, 0.0000e+00,\n",
       "          1.0133e+01, 9.1927e+00],\n",
       "         [9.3893e+00, 8.3982e+00, 1.7388e+01, 0.0000e+00, 0.0000e+00,\n",
       "          0.0000e+00, 0.0000e+00, 1.2328e+01, 2.0346e+01, 0.0000e+00,\n",
       "          0.0000e+00, 5.9735e+00, 0.0000e+00, 0.0000e+00, 1.5069e+01,\n",
       "          2.1862e+01, 1.8442e+01, 4.6067e+00, 0.0000e+00, 8.7620e+00,\n",
       "          0.0000e+00, 3.3241e+01, 0.0000e+00, 0.0000e+00, 0.0000e+00,\n",
       "          0.0000e+00, 1.2994e+01, 2.4420e+01, 0.0000e+00, 0.0000e+00,\n",
       "          4.4072e+00, 1.7469e+01],\n",
       "         [1.2093e+01, 1.4509e+01, 3.2054e+00, 0.0000e+00, 9.0991e-01,\n",
       "          0.0000e+00, 0.0000e+00, 6.0253e+00, 1.2428e+01, 3.1500e-02,\n",
       "          6.8666e+00, 0.0000e+00, 0.0000e+00, 0.0000e+00, 9.8795e+00,\n",
       "          2.0156e+01, 1.8570e+01, 1.0755e+01, 0.0000e+00, 1.4301e+01,\n",
       "          4.6843e+00, 8.6626e+00, 0.0000e+00, 0.0000e+00, 0.0000e+00,\n",
       "          0.0000e+00, 1.1707e+01, 8.3807e+00, 0.0000e+00, 0.0000e+00,\n",
       "          1.4489e+01, 1.1309e+01],\n",
       "         [0.0000e+00, 2.1029e+03, 8.2418e+02, 0.0000e+00, 6.9431e+02,\n",
       "          0.0000e+00, 0.0000e+00, 0.0000e+00, 1.4572e+03, 4.5517e+02,\n",
       "          1.8976e+03, 0.0000e+00, 9.2060e+01, 0.0000e+00, 2.4665e+02,\n",
       "          1.9094e+03, 0.0000e+00, 1.7661e+03, 0.0000e+00, 7.1618e+02,\n",
       "          1.4717e+03, 0.0000e+00, 0.0000e+00, 0.0000e+00, 0.0000e+00,\n",
       "          0.0000e+00, 3.4998e+02, 0.0000e+00, 0.0000e+00, 0.0000e+00,\n",
       "          6.1054e+02, 1.4560e+00],\n",
       "         [0.0000e+00, 1.6748e+02, 7.7413e+02, 0.0000e+00, 0.0000e+00,\n",
       "          0.0000e+00, 0.0000e+00, 4.1266e+02, 8.1892e+02, 9.1728e+00,\n",
       "          7.7919e+01, 3.9696e+02, 0.0000e+00, 0.0000e+00, 2.7564e+02,\n",
       "          6.1529e+02, 7.6061e+01, 0.0000e+00, 0.0000e+00, 1.0914e+02,\n",
       "          0.0000e+00, 1.2068e+03, 0.0000e+00, 0.0000e+00, 1.1485e+02,\n",
       "          0.0000e+00, 0.0000e+00, 7.3571e+02, 0.0000e+00, 0.0000e+00,\n",
       "          0.0000e+00, 2.2547e+02],\n",
       "         [1.4551e+02, 1.1449e+03, 5.2770e+02, 0.0000e+00, 2.1932e+02,\n",
       "          0.0000e+00, 0.0000e+00, 5.1872e+01, 8.4579e+02, 1.3851e+02,\n",
       "          8.9547e+02, 0.0000e+00, 0.0000e+00, 0.0000e+00, 3.6209e+02,\n",
       "          1.1978e+03, 4.3500e+02, 9.3267e+02, 0.0000e+00, 5.4089e+02,\n",
       "          5.2846e+02, 2.0341e+02, 0.0000e+00, 0.0000e+00, 0.0000e+00,\n",
       "          0.0000e+00, 5.2176e+02, 9.4549e+01, 0.0000e+00, 0.0000e+00,\n",
       "          4.5047e+02, 3.5832e+02]]], grad_fn=<TransposeBackward1>)"
      ]
     },
     "metadata": {},
     "execution_count": 84
    }
   ],
   "source": [
    "device = th.device(\"cuda\" if th.cuda.is_available() else \"cpu\")\n",
    "\n",
    "\n",
    "sample_x, sample_y = dataset.__getItem__(0)\n",
    "input_size = sample_x.shape[1]\n",
    "output_size = sample_y.shape[0]\n",
    "model = Rnn(input_size=input_size, hidden_size=32, output_size=output_size)\n",
    "model.to(device, dtype=th.float32)\n",
    "sample_x.to(device)\n",
    "sample_x = sample_x.unsqueeze(0)\n",
    "\n",
    "print(sample_x.type())\n",
    "print(sample_x.dtype)\n",
    "model.forward(sample_x)"
   ]
  },
  {
   "source": [
    "#### We choose an optimizer and loss function"
   ],
   "cell_type": "markdown",
   "metadata": {}
  },
  {
   "cell_type": "code",
   "execution_count": 23,
   "metadata": {},
   "outputs": [],
   "source": [
    "criterion = th.nn.CrossEntropyLoss()\n",
    "optimizer = th.optim.Adam(model.parameters())"
   ]
  },
  {
   "source": [
    "#### We define a loop for training our model"
   ],
   "cell_type": "markdown",
   "metadata": {}
  },
  {
   "cell_type": "code",
   "execution_count": 33,
   "metadata": {},
   "outputs": [
    {
     "output_type": "display_data",
     "data": {
      "text/plain": "torch.Tensor"
     },
     "metadata": {}
    },
    {
     "output_type": "error",
     "ename": "RuntimeError",
     "evalue": "input must have 3 dimensions, got 5",
     "traceback": [
      "\u001b[0;31m---------------------------------------------------------------------------\u001b[0m",
      "\u001b[0;31mRuntimeError\u001b[0m                              Traceback (most recent call last)",
      "\u001b[0;32m<ipython-input-33-16146f4f16e3>\u001b[0m in \u001b[0;36m<module>\u001b[0;34m\u001b[0m\n\u001b[1;32m      1\u001b[0m \u001b[0msample_x\u001b[0m \u001b[0;34m=\u001b[0m \u001b[0msample_x\u001b[0m\u001b[0;34m.\u001b[0m\u001b[0munsqueeze\u001b[0m\u001b[0;34m(\u001b[0m\u001b[0;36m0\u001b[0m\u001b[0;34m)\u001b[0m\u001b[0;34m\u001b[0m\u001b[0m\n\u001b[1;32m      2\u001b[0m \u001b[0mdisplay\u001b[0m\u001b[0;34m(\u001b[0m\u001b[0mtype\u001b[0m\u001b[0;34m(\u001b[0m\u001b[0msample_x\u001b[0m\u001b[0;34m)\u001b[0m\u001b[0;34m)\u001b[0m\u001b[0;34m\u001b[0m\u001b[0m\n\u001b[0;32m----> 3\u001b[0;31m \u001b[0mmodel\u001b[0m\u001b[0;34m.\u001b[0m\u001b[0mforward\u001b[0m\u001b[0;34m(\u001b[0m\u001b[0msample_x\u001b[0m\u001b[0;34m)\u001b[0m\u001b[0;34m\u001b[0m\u001b[0m\n\u001b[0m",
      "\u001b[0;32m~/Documents/multimedia_research_group/graph_classification/mediaeval_fake_news/models/rnn.py\u001b[0m in \u001b[0;36mforward\u001b[0;34m(self, input)\u001b[0m\n\u001b[1;32m     13\u001b[0m \u001b[0;34m\u001b[0m\u001b[0m\n\u001b[1;32m     14\u001b[0m     \u001b[0;32mdef\u001b[0m \u001b[0mforward\u001b[0m\u001b[0;34m(\u001b[0m\u001b[0mself\u001b[0m\u001b[0;34m,\u001b[0m \u001b[0minput\u001b[0m\u001b[0;34m)\u001b[0m\u001b[0;34m:\u001b[0m\u001b[0;34m\u001b[0m\u001b[0m\n\u001b[0;32m---> 15\u001b[0;31m         \u001b[0mrec_out\u001b[0m\u001b[0;34m,\u001b[0m \u001b[0m_\u001b[0m \u001b[0;34m=\u001b[0m \u001b[0mself\u001b[0m\u001b[0;34m.\u001b[0m\u001b[0mrec_layer\u001b[0m\u001b[0;34m(\u001b[0m\u001b[0minput\u001b[0m\u001b[0;34m)\u001b[0m\u001b[0;34m\u001b[0m\u001b[0m\n\u001b[0m\u001b[1;32m     16\u001b[0m         \u001b[0mprint\u001b[0m\u001b[0;34m(\u001b[0m\u001b[0mrec_out\u001b[0m\u001b[0;34m.\u001b[0m\u001b[0mshape\u001b[0m\u001b[0;34m)\u001b[0m\u001b[0;34m\u001b[0m\u001b[0m\n\u001b[1;32m     17\u001b[0m         \u001b[0;32mreturn\u001b[0m \u001b[0mrec_out\u001b[0m\u001b[0;34m\u001b[0m\u001b[0m\n",
      "\u001b[0;32m~/Documents/multimedia_research_group/graph_classification/env/lib/python3.7/site-packages/torch/nn/modules/module.py\u001b[0m in \u001b[0;36m_call_impl\u001b[0;34m(self, *input, **kwargs)\u001b[0m\n\u001b[1;32m    887\u001b[0m             \u001b[0mresult\u001b[0m \u001b[0;34m=\u001b[0m \u001b[0mself\u001b[0m\u001b[0;34m.\u001b[0m\u001b[0m_slow_forward\u001b[0m\u001b[0;34m(\u001b[0m\u001b[0;34m*\u001b[0m\u001b[0minput\u001b[0m\u001b[0;34m,\u001b[0m \u001b[0;34m**\u001b[0m\u001b[0mkwargs\u001b[0m\u001b[0;34m)\u001b[0m\u001b[0;34m\u001b[0m\u001b[0m\n\u001b[1;32m    888\u001b[0m         \u001b[0;32melse\u001b[0m\u001b[0;34m:\u001b[0m\u001b[0;34m\u001b[0m\u001b[0m\n\u001b[0;32m--> 889\u001b[0;31m             \u001b[0mresult\u001b[0m \u001b[0;34m=\u001b[0m \u001b[0mself\u001b[0m\u001b[0;34m.\u001b[0m\u001b[0mforward\u001b[0m\u001b[0;34m(\u001b[0m\u001b[0;34m*\u001b[0m\u001b[0minput\u001b[0m\u001b[0;34m,\u001b[0m \u001b[0;34m**\u001b[0m\u001b[0mkwargs\u001b[0m\u001b[0;34m)\u001b[0m\u001b[0;34m\u001b[0m\u001b[0m\n\u001b[0m\u001b[1;32m    890\u001b[0m         for hook in itertools.chain(\n\u001b[1;32m    891\u001b[0m                 \u001b[0m_global_forward_hooks\u001b[0m\u001b[0;34m.\u001b[0m\u001b[0mvalues\u001b[0m\u001b[0;34m(\u001b[0m\u001b[0;34m)\u001b[0m\u001b[0;34m,\u001b[0m\u001b[0;34m\u001b[0m\u001b[0m\n",
      "\u001b[0;32m~/Documents/multimedia_research_group/graph_classification/env/lib/python3.7/site-packages/torch/nn/modules/rnn.py\u001b[0m in \u001b[0;36mforward\u001b[0;34m(self, input, hx)\u001b[0m\n\u001b[1;32m    260\u001b[0m \u001b[0;34m\u001b[0m\u001b[0m\n\u001b[1;32m    261\u001b[0m         \u001b[0;32massert\u001b[0m \u001b[0mhx\u001b[0m \u001b[0;32mis\u001b[0m \u001b[0;32mnot\u001b[0m \u001b[0;32mNone\u001b[0m\u001b[0;34m\u001b[0m\u001b[0m\n\u001b[0;32m--> 262\u001b[0;31m         \u001b[0mself\u001b[0m\u001b[0;34m.\u001b[0m\u001b[0mcheck_forward_args\u001b[0m\u001b[0;34m(\u001b[0m\u001b[0minput\u001b[0m\u001b[0;34m,\u001b[0m \u001b[0mhx\u001b[0m\u001b[0;34m,\u001b[0m \u001b[0mbatch_sizes\u001b[0m\u001b[0;34m)\u001b[0m\u001b[0;34m\u001b[0m\u001b[0m\n\u001b[0m\u001b[1;32m    263\u001b[0m         \u001b[0m_impl\u001b[0m \u001b[0;34m=\u001b[0m \u001b[0m_rnn_impls\u001b[0m\u001b[0;34m[\u001b[0m\u001b[0mself\u001b[0m\u001b[0;34m.\u001b[0m\u001b[0mmode\u001b[0m\u001b[0;34m]\u001b[0m\u001b[0;34m\u001b[0m\u001b[0m\n\u001b[1;32m    264\u001b[0m         \u001b[0;32mif\u001b[0m \u001b[0mbatch_sizes\u001b[0m \u001b[0;32mis\u001b[0m \u001b[0;32mNone\u001b[0m\u001b[0;34m:\u001b[0m\u001b[0;34m\u001b[0m\u001b[0m\n",
      "\u001b[0;32m~/Documents/multimedia_research_group/graph_classification/env/lib/python3.7/site-packages/torch/nn/modules/rnn.py\u001b[0m in \u001b[0;36mcheck_forward_args\u001b[0;34m(self, input, hidden, batch_sizes)\u001b[0m\n\u001b[1;32m    224\u001b[0m \u001b[0;34m\u001b[0m\u001b[0m\n\u001b[1;32m    225\u001b[0m     \u001b[0;32mdef\u001b[0m \u001b[0mcheck_forward_args\u001b[0m\u001b[0;34m(\u001b[0m\u001b[0mself\u001b[0m\u001b[0;34m,\u001b[0m \u001b[0minput\u001b[0m\u001b[0;34m:\u001b[0m \u001b[0mTensor\u001b[0m\u001b[0;34m,\u001b[0m \u001b[0mhidden\u001b[0m\u001b[0;34m:\u001b[0m \u001b[0mTensor\u001b[0m\u001b[0;34m,\u001b[0m \u001b[0mbatch_sizes\u001b[0m\u001b[0;34m:\u001b[0m \u001b[0mOptional\u001b[0m\u001b[0;34m[\u001b[0m\u001b[0mTensor\u001b[0m\u001b[0;34m]\u001b[0m\u001b[0;34m)\u001b[0m\u001b[0;34m:\u001b[0m\u001b[0;34m\u001b[0m\u001b[0m\n\u001b[0;32m--> 226\u001b[0;31m         \u001b[0mself\u001b[0m\u001b[0;34m.\u001b[0m\u001b[0mcheck_input\u001b[0m\u001b[0;34m(\u001b[0m\u001b[0minput\u001b[0m\u001b[0;34m,\u001b[0m \u001b[0mbatch_sizes\u001b[0m\u001b[0;34m)\u001b[0m\u001b[0;34m\u001b[0m\u001b[0m\n\u001b[0m\u001b[1;32m    227\u001b[0m         \u001b[0mexpected_hidden_size\u001b[0m \u001b[0;34m=\u001b[0m \u001b[0mself\u001b[0m\u001b[0;34m.\u001b[0m\u001b[0mget_expected_hidden_size\u001b[0m\u001b[0;34m(\u001b[0m\u001b[0minput\u001b[0m\u001b[0;34m,\u001b[0m \u001b[0mbatch_sizes\u001b[0m\u001b[0;34m)\u001b[0m\u001b[0;34m\u001b[0m\u001b[0m\n\u001b[1;32m    228\u001b[0m \u001b[0;34m\u001b[0m\u001b[0m\n",
      "\u001b[0;32m~/Documents/multimedia_research_group/graph_classification/env/lib/python3.7/site-packages/torch/nn/modules/rnn.py\u001b[0m in \u001b[0;36mcheck_input\u001b[0;34m(self, input, batch_sizes)\u001b[0m\n\u001b[1;32m    198\u001b[0m             raise RuntimeError(\n\u001b[1;32m    199\u001b[0m                 'input must have {} dimensions, got {}'.format(\n\u001b[0;32m--> 200\u001b[0;31m                     expected_input_dim, input.dim()))\n\u001b[0m\u001b[1;32m    201\u001b[0m         \u001b[0;32mif\u001b[0m \u001b[0mself\u001b[0m\u001b[0;34m.\u001b[0m\u001b[0minput_size\u001b[0m \u001b[0;34m!=\u001b[0m \u001b[0minput\u001b[0m\u001b[0;34m.\u001b[0m\u001b[0msize\u001b[0m\u001b[0;34m(\u001b[0m\u001b[0;34m-\u001b[0m\u001b[0;36m1\u001b[0m\u001b[0;34m)\u001b[0m\u001b[0;34m:\u001b[0m\u001b[0;34m\u001b[0m\u001b[0m\n\u001b[1;32m    202\u001b[0m             raise RuntimeError(\n",
      "\u001b[0;31mRuntimeError\u001b[0m: input must have 3 dimensions, got 5"
     ]
    }
   ],
   "source": [
    "sample_x = sample_x.unsqueeze(0)\n",
    "display()\n",
    "model.forward(sample_x)"
   ]
  },
  {
   "source": [
    "## using a basic logistic regression model to test what works"
   ],
   "cell_type": "markdown",
   "metadata": {}
  },
  {
   "cell_type": "code",
   "execution_count": 19,
   "metadata": {
    "tags": []
   },
   "outputs": [
    {
     "output_type": "error",
     "ename": "KeyboardInterrupt",
     "evalue": "",
     "traceback": [
      "\u001b[0;31m---------------------------------------------------------------------------\u001b[0m",
      "\u001b[0;31mKeyboardInterrupt\u001b[0m                         Traceback (most recent call last)",
      "\u001b[0;32m<ipython-input-19-edd4120a3db3>\u001b[0m in \u001b[0;36m<module>\u001b[0;34m\u001b[0m\n\u001b[1;32m      6\u001b[0m     \u001b[0;32mreturn\u001b[0m \u001b[0mavg_embed\u001b[0m\u001b[0;34m\u001b[0m\u001b[0m\n\u001b[1;32m      7\u001b[0m \u001b[0;34m\u001b[0m\u001b[0m\n\u001b[0;32m----> 8\u001b[0;31m \u001b[0mdw_feats\u001b[0m\u001b[0;34m[\u001b[0m\u001b[0;34m[\u001b[0m\u001b[0;34m'dw_mean'\u001b[0m\u001b[0;34m+\u001b[0m\u001b[0mstr\u001b[0m\u001b[0;34m(\u001b[0m\u001b[0mi\u001b[0m\u001b[0;34m)\u001b[0m \u001b[0;32mfor\u001b[0m \u001b[0mi\u001b[0m \u001b[0;32min\u001b[0m \u001b[0mrange\u001b[0m\u001b[0;34m(\u001b[0m\u001b[0;36m64\u001b[0m\u001b[0;34m)\u001b[0m\u001b[0;34m]\u001b[0m\u001b[0;34m]\u001b[0m \u001b[0;34m=\u001b[0m \u001b[0mdw_feats\u001b[0m\u001b[0;34m.\u001b[0m\u001b[0mapply\u001b[0m\u001b[0;34m(\u001b[0m\u001b[0mget_deepwalk_mean\u001b[0m\u001b[0;34m,\u001b[0m \u001b[0maxis\u001b[0m\u001b[0;34m=\u001b[0m\u001b[0;36m1\u001b[0m\u001b[0;34m)\u001b[0m\u001b[0;34m\u001b[0m\u001b[0m\n\u001b[0m\u001b[1;32m      9\u001b[0m \u001b[0mdw_feats\u001b[0m\u001b[0;34m.\u001b[0m\u001b[0mhead\u001b[0m\u001b[0;34m(\u001b[0m\u001b[0;36m3\u001b[0m\u001b[0;34m)\u001b[0m\u001b[0;34m\u001b[0m\u001b[0m\n",
      "\u001b[0;32m~/Documents/multimedia_research_group/graph_classification/env/lib/python3.7/site-packages/pandas/core/frame.py\u001b[0m in \u001b[0;36mapply\u001b[0;34m(self, func, axis, raw, result_type, args, **kwds)\u001b[0m\n\u001b[1;32m   7550\u001b[0m             \u001b[0mkwds\u001b[0m\u001b[0;34m=\u001b[0m\u001b[0mkwds\u001b[0m\u001b[0;34m,\u001b[0m\u001b[0;34m\u001b[0m\u001b[0m\n\u001b[1;32m   7551\u001b[0m         )\n\u001b[0;32m-> 7552\u001b[0;31m         \u001b[0;32mreturn\u001b[0m \u001b[0mop\u001b[0m\u001b[0;34m.\u001b[0m\u001b[0mget_result\u001b[0m\u001b[0;34m(\u001b[0m\u001b[0;34m)\u001b[0m\u001b[0;34m\u001b[0m\u001b[0m\n\u001b[0m\u001b[1;32m   7553\u001b[0m \u001b[0;34m\u001b[0m\u001b[0m\n\u001b[1;32m   7554\u001b[0m     \u001b[0;32mdef\u001b[0m \u001b[0mapplymap\u001b[0m\u001b[0;34m(\u001b[0m\u001b[0mself\u001b[0m\u001b[0;34m,\u001b[0m \u001b[0mfunc\u001b[0m\u001b[0;34m)\u001b[0m \u001b[0;34m->\u001b[0m \u001b[0;34m\"DataFrame\"\u001b[0m\u001b[0;34m:\u001b[0m\u001b[0;34m\u001b[0m\u001b[0m\n",
      "\u001b[0;32m~/Documents/multimedia_research_group/graph_classification/env/lib/python3.7/site-packages/pandas/core/apply.py\u001b[0m in \u001b[0;36mget_result\u001b[0;34m(self)\u001b[0m\n\u001b[1;32m    183\u001b[0m             \u001b[0;32mreturn\u001b[0m \u001b[0mself\u001b[0m\u001b[0;34m.\u001b[0m\u001b[0mapply_raw\u001b[0m\u001b[0;34m(\u001b[0m\u001b[0;34m)\u001b[0m\u001b[0;34m\u001b[0m\u001b[0m\n\u001b[1;32m    184\u001b[0m \u001b[0;34m\u001b[0m\u001b[0m\n\u001b[0;32m--> 185\u001b[0;31m         \u001b[0;32mreturn\u001b[0m \u001b[0mself\u001b[0m\u001b[0;34m.\u001b[0m\u001b[0mapply_standard\u001b[0m\u001b[0;34m(\u001b[0m\u001b[0;34m)\u001b[0m\u001b[0;34m\u001b[0m\u001b[0m\n\u001b[0m\u001b[1;32m    186\u001b[0m \u001b[0;34m\u001b[0m\u001b[0m\n\u001b[1;32m    187\u001b[0m     \u001b[0;32mdef\u001b[0m \u001b[0mapply_empty_result\u001b[0m\u001b[0;34m(\u001b[0m\u001b[0mself\u001b[0m\u001b[0;34m)\u001b[0m\u001b[0;34m:\u001b[0m\u001b[0;34m\u001b[0m\u001b[0m\n",
      "\u001b[0;32m~/Documents/multimedia_research_group/graph_classification/env/lib/python3.7/site-packages/pandas/core/apply.py\u001b[0m in \u001b[0;36mapply_standard\u001b[0;34m(self)\u001b[0m\n\u001b[1;32m    274\u001b[0m \u001b[0;34m\u001b[0m\u001b[0m\n\u001b[1;32m    275\u001b[0m     \u001b[0;32mdef\u001b[0m \u001b[0mapply_standard\u001b[0m\u001b[0;34m(\u001b[0m\u001b[0mself\u001b[0m\u001b[0;34m)\u001b[0m\u001b[0;34m:\u001b[0m\u001b[0;34m\u001b[0m\u001b[0m\n\u001b[0;32m--> 276\u001b[0;31m         \u001b[0mresults\u001b[0m\u001b[0;34m,\u001b[0m \u001b[0mres_index\u001b[0m \u001b[0;34m=\u001b[0m \u001b[0mself\u001b[0m\u001b[0;34m.\u001b[0m\u001b[0mapply_series_generator\u001b[0m\u001b[0;34m(\u001b[0m\u001b[0;34m)\u001b[0m\u001b[0;34m\u001b[0m\u001b[0m\n\u001b[0m\u001b[1;32m    277\u001b[0m \u001b[0;34m\u001b[0m\u001b[0m\n\u001b[1;32m    278\u001b[0m         \u001b[0;31m# wrap results\u001b[0m\u001b[0;34m\u001b[0m\u001b[0;34m\u001b[0m\u001b[0m\n",
      "\u001b[0;32m~/Documents/multimedia_research_group/graph_classification/env/lib/python3.7/site-packages/pandas/core/apply.py\u001b[0m in \u001b[0;36mapply_series_generator\u001b[0;34m(self)\u001b[0m\n\u001b[1;32m    303\u001b[0m                 \u001b[0;32mfor\u001b[0m \u001b[0mi\u001b[0m\u001b[0;34m,\u001b[0m \u001b[0mv\u001b[0m \u001b[0;32min\u001b[0m \u001b[0menumerate\u001b[0m\u001b[0;34m(\u001b[0m\u001b[0mseries_gen\u001b[0m\u001b[0;34m)\u001b[0m\u001b[0;34m:\u001b[0m\u001b[0;34m\u001b[0m\u001b[0m\n\u001b[1;32m    304\u001b[0m                     \u001b[0;31m# ignore SettingWithCopy here in case the user mutates\u001b[0m\u001b[0;34m\u001b[0m\u001b[0;34m\u001b[0m\u001b[0m\n\u001b[0;32m--> 305\u001b[0;31m                     \u001b[0mresults\u001b[0m\u001b[0;34m[\u001b[0m\u001b[0mi\u001b[0m\u001b[0;34m]\u001b[0m \u001b[0;34m=\u001b[0m \u001b[0mself\u001b[0m\u001b[0;34m.\u001b[0m\u001b[0mf\u001b[0m\u001b[0;34m(\u001b[0m\u001b[0mv\u001b[0m\u001b[0;34m)\u001b[0m\u001b[0;34m\u001b[0m\u001b[0m\n\u001b[0m\u001b[1;32m    306\u001b[0m                     \u001b[0;32mif\u001b[0m \u001b[0misinstance\u001b[0m\u001b[0;34m(\u001b[0m\u001b[0mresults\u001b[0m\u001b[0;34m[\u001b[0m\u001b[0mi\u001b[0m\u001b[0;34m]\u001b[0m\u001b[0;34m,\u001b[0m \u001b[0mABCSeries\u001b[0m\u001b[0;34m)\u001b[0m\u001b[0;34m:\u001b[0m\u001b[0;34m\u001b[0m\u001b[0m\n\u001b[1;32m    307\u001b[0m                         \u001b[0;31m# If we have a view on v, we need to make a copy because\u001b[0m\u001b[0;34m\u001b[0m\u001b[0;34m\u001b[0m\u001b[0m\n",
      "\u001b[0;32m<ipython-input-19-edd4120a3db3>\u001b[0m in \u001b[0;36mget_deepwalk_mean\u001b[0;34m(row)\u001b[0m\n\u001b[1;32m      2\u001b[0m \u001b[0;32mdef\u001b[0m \u001b[0mget_deepwalk_mean\u001b[0m\u001b[0;34m(\u001b[0m\u001b[0mrow\u001b[0m\u001b[0;34m)\u001b[0m\u001b[0;34m:\u001b[0m\u001b[0;34m\u001b[0m\u001b[0m\n\u001b[1;32m      3\u001b[0m     \u001b[0mgraph_nodes\u001b[0m \u001b[0;34m=\u001b[0m \u001b[0mrow\u001b[0m\u001b[0;34m[\u001b[0m\u001b[0;34m'nodeID_list'\u001b[0m\u001b[0;34m]\u001b[0m\u001b[0;34m\u001b[0m\u001b[0m\n\u001b[0;32m----> 4\u001b[0;31m     \u001b[0mnode_embed\u001b[0m \u001b[0;34m=\u001b[0m \u001b[0membeddings\u001b[0m\u001b[0;34m[\u001b[0m\u001b[0;34m[\u001b[0m\u001b[0;34m(\u001b[0m\u001b[0mnode\u001b[0m \u001b[0;32min\u001b[0m \u001b[0mgraph_nodes\u001b[0m\u001b[0;34m)\u001b[0m \u001b[0;32mfor\u001b[0m \u001b[0mnode\u001b[0m \u001b[0;32min\u001b[0m \u001b[0membeddings\u001b[0m\u001b[0;34m.\u001b[0m\u001b[0mindex\u001b[0m\u001b[0;34m]\u001b[0m\u001b[0;34m]\u001b[0m\u001b[0;34m\u001b[0m\u001b[0m\n\u001b[0m\u001b[1;32m      5\u001b[0m     \u001b[0mavg_embed\u001b[0m \u001b[0;34m=\u001b[0m \u001b[0mnode_embed\u001b[0m\u001b[0;34m.\u001b[0m\u001b[0mmean\u001b[0m\u001b[0;34m(\u001b[0m\u001b[0maxis\u001b[0m\u001b[0;34m=\u001b[0m\u001b[0;36m0\u001b[0m\u001b[0;34m)\u001b[0m\u001b[0;34m\u001b[0m\u001b[0m\n\u001b[1;32m      6\u001b[0m     \u001b[0;32mreturn\u001b[0m \u001b[0mavg_embed\u001b[0m\u001b[0;34m\u001b[0m\u001b[0m\n",
      "\u001b[0;32m<ipython-input-19-edd4120a3db3>\u001b[0m in \u001b[0;36m<listcomp>\u001b[0;34m(.0)\u001b[0m\n\u001b[1;32m      2\u001b[0m \u001b[0;32mdef\u001b[0m \u001b[0mget_deepwalk_mean\u001b[0m\u001b[0;34m(\u001b[0m\u001b[0mrow\u001b[0m\u001b[0;34m)\u001b[0m\u001b[0;34m:\u001b[0m\u001b[0;34m\u001b[0m\u001b[0m\n\u001b[1;32m      3\u001b[0m     \u001b[0mgraph_nodes\u001b[0m \u001b[0;34m=\u001b[0m \u001b[0mrow\u001b[0m\u001b[0;34m[\u001b[0m\u001b[0;34m'nodeID_list'\u001b[0m\u001b[0;34m]\u001b[0m\u001b[0;34m\u001b[0m\u001b[0m\n\u001b[0;32m----> 4\u001b[0;31m     \u001b[0mnode_embed\u001b[0m \u001b[0;34m=\u001b[0m \u001b[0membeddings\u001b[0m\u001b[0;34m[\u001b[0m\u001b[0;34m[\u001b[0m\u001b[0;34m(\u001b[0m\u001b[0mnode\u001b[0m \u001b[0;32min\u001b[0m \u001b[0mgraph_nodes\u001b[0m\u001b[0;34m)\u001b[0m \u001b[0;32mfor\u001b[0m \u001b[0mnode\u001b[0m \u001b[0;32min\u001b[0m \u001b[0membeddings\u001b[0m\u001b[0;34m.\u001b[0m\u001b[0mindex\u001b[0m\u001b[0;34m]\u001b[0m\u001b[0;34m]\u001b[0m\u001b[0;34m\u001b[0m\u001b[0m\n\u001b[0m\u001b[1;32m      5\u001b[0m     \u001b[0mavg_embed\u001b[0m \u001b[0;34m=\u001b[0m \u001b[0mnode_embed\u001b[0m\u001b[0;34m.\u001b[0m\u001b[0mmean\u001b[0m\u001b[0;34m(\u001b[0m\u001b[0maxis\u001b[0m\u001b[0;34m=\u001b[0m\u001b[0;36m0\u001b[0m\u001b[0;34m)\u001b[0m\u001b[0;34m\u001b[0m\u001b[0m\n\u001b[1;32m      6\u001b[0m     \u001b[0;32mreturn\u001b[0m \u001b[0mavg_embed\u001b[0m\u001b[0;34m\u001b[0m\u001b[0m\n",
      "\u001b[0;31mKeyboardInterrupt\u001b[0m: "
     ]
    }
   ],
   "source": [
    "dw_feats = df[['label', 'nodeID_list']]\n",
    "def get_deepwalk_mean(row):\n",
    "    graph_nodes = row['nodeID_list']\n",
    "    node_embed = embeddings[[(node in graph_nodes) for node in embeddings.index]]\n",
    "    avg_embed = node_embed.mean(axis=0)\n",
    "    return avg_embed\n",
    "\n",
    "dw_feats[['dw_mean'+str(i) for i in range(64)]] = dw_feats.apply(get_deepwalk_mean, axis=1)\n",
    "dw_feats.head(3)"
   ]
  },
  {
   "cell_type": "code",
   "execution_count": 15,
   "metadata": {},
   "outputs": [],
   "source": [
    "# get data first\n",
    "dw_feats = dw_feats.drop('nodeID_list', axis=1)\n",
    "X, y = np.array(dw_feats.drop('label', axis=1)), np.ravel(dw_feats[['label']])\n",
    "kf = KFold(n_splits=5, random_state=42, shuffle=True)\n"
   ]
  },
  {
   "cell_type": "code",
   "execution_count": 16,
   "metadata": {},
   "outputs": [
    {
     "output_type": "execute_result",
     "data": {
      "text/plain": [
       "[0.33811562230497183,\n",
       " 0.4170142973854589,\n",
       " 0.36276128940856917,\n",
       " 0.3848279938846305,\n",
       " 0.3644198947839967]"
      ]
     },
     "metadata": {},
     "execution_count": 16
    }
   ],
   "source": [
    "scores = []\n",
    "for train_idx, val_idx in kf.split(X):\n",
    "    X_train, y_train = X[train_idx], y[train_idx]\n",
    "    X_val, y_val = X[val_idx], y[val_idx]\n",
    "    model = LogisticRegression(random_state=42, class_weight='balanced', C=.0001)\n",
    "    from sklearn import svm\n",
    "    model = svm.SVC(kernel='rbf', class_weight=\"balanced\", C=5)\n",
    "    model.fit(X_train, y_train)\n",
    "    preds = model.predict(X_val)\n",
    "    score = matthews_corrcoef(y_val, preds)\n",
    "    #print(preds)\n",
    "    scores.append(score)\n",
    "scores"
   ]
  },
  {
   "cell_type": "code",
   "execution_count": null,
   "metadata": {},
   "outputs": [],
   "source": []
  }
 ]
}